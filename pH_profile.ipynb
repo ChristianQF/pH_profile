{
 "cells": [
  {
   "cell_type": "markdown",
   "id": "26c5532d",
   "metadata": {},
   "source": [
    "## Buffer acetato"
   ]
  },
  {
   "cell_type": "code",
   "execution_count": 27,
   "id": "9e353546",
   "metadata": {},
   "outputs": [
    {
     "name": "stdout",
     "output_type": "stream",
     "text": [
      "0.09825279085051666 0.001747209149483342\n"
     ]
    },
    {
     "data": {
      "image/png": "[encoded data removed]",
      "text/plain": [
       "<Figure size 432x288 with 1 Axes>"
      ]
     },
     "metadata": {
      "needs_background": "light"
     },
     "output_type": "display_data"
    }
   ],
   "source": [
    "#my first program\n",
    "import numpy as np\n",
    "from scipy.integrate import odeint\n",
    "import matplotlib.pyplot as plt\n",
    "\n",
    "#Presentacion del sistema a modelar/Planteamiento del modelo\n",
    "# AH <-->A- + H+ \n",
    "# k1f=1.76*10.^(-5), \n",
    "# k1r=1\n",
    "\n",
    "# H2O <--> H+ +OH-, \n",
    "# kwf=10.^(-14), \n",
    "# kwr=1;\n",
    "\n",
    "# Planteamiento del modelo\n",
    "# d[AH]/dt = -k1f*[AH]+k1r*[A-]*[H+]\n",
    "# d[A]/dt = -k1f*[AH]+k1r*[A-]*[H+]\n",
    "# d[H+]/dt = k1f*[AH]-k1r*[A-]*[H+]+kwf-kwr*[H+]*[OH-]\n",
    "# d[OH-]/dt = kwf-kwr*[H+]*[OH-]\n",
    "\n",
    "# P[0] = [AH],\n",
    "# P[1] = [A-],\n",
    "# P[2] = [H+],\n",
    "# P[3] = [OH-],\n",
    "\n",
    "#Declarando variables\n",
    "k1f=1.76*10.**(-5)\n",
    "k1r=1\n",
    "kwf=10.**(-14)\n",
    "kwr=1\n",
    "\n",
    "def model(P, t):\n",
    "    return [-k1f*P[0]+k1r*P[1]*P[2],\n",
    "           k1f*P[0]-k1r*P[1]*P[2],\n",
    "           k1f*P[0]-k1r*P[1]*P[2]+kwf-kwr*P[2]*P[3],\n",
    "           kwf-kwr*P[2]*P[3]]\n",
    "\n",
    "#Declarando las concentraciones iniciales de las variables\n",
    "#Para ello obtener las concentraciones iniciales a pH 1 de las variables simuladas \n",
    "#usando la ecuación de Henderson Hasselbach\n",
    "pH=2\n",
    "pKa =3.75 #pka del ácido acético\n",
    "ConcBuffer=0.1\n",
    "#--> la concentración de ácido acético y su base conjugada a pH 1  y concentracion de buffer 0.1 M sera:\n",
    "\n",
    "AHi=ConcBuffer/(1+(10**(pH-pKa)))\n",
    "Ai=ConcBuffer-AHi\n",
    "\n",
    "print(AHi,Ai)\n",
    "\n",
    "#AHi=0.09998201\n",
    "#Ai=0.0000179855\n",
    "Hi=10.**(-pH)\n",
    "OHi=10.**(-(14-pH))\n",
    "\n",
    "suma=14\n",
    "vol=0.01 #Valor de volumen en lt que se adicionara durante la simulación\n",
    "\n",
    "ts = np.linspace(0, 40, 400) # de 0 a 12 con 100 puntos para t\n",
    "P0 = [AHi,Ai,Hi,OHi+vol] #vector para los valores iniciales de los metabolitos\n",
    "Ps = odeint(model, P0, ts) #Orden para integrar las ecuaciones diferenciales\n",
    "AH = Ps[:,0]\n",
    "A = Ps[:,1]\n",
    "H = Ps[:,2]\n",
    "OH = Ps[:,3]\n",
    "\n",
    "plt.plot(ts, AH, label=\"[AH]\")\n",
    "plt.plot(ts, A, label=\"[A-]\")\n",
    "plt.plot(ts, H, label=\"[H+]\")\n",
    "plt.plot(ts, OH, label=\"[OH-]\")\n",
    "plt.xlabel(\"Time\")\n",
    "plt.ylabel(\"Concentration\")\n",
    "plt.legend();"
   ]
  },
  {
   "cell_type": "code",
   "execution_count": 60,
   "id": "3dd76123",
   "metadata": {},
   "outputs": [
    {
     "name": "stdout",
     "output_type": "stream",
     "text": [
      "complete\n"
     ]
    }
   ],
   "source": [
    "#my first program\n",
    "import numpy as np\n",
    "from scipy.integrate import odeint\n",
    "import matplotlib.pyplot as plt\n",
    "\n",
    "#Presentacion del sistema a modelar/Planteamiento del modelo\n",
    "# AH <-->A- + H+ \n",
    "# k1f=1.76*10.^(-5), \n",
    "# k1r=1\n",
    "\n",
    "# H2O <--> H+ +OH-, \n",
    "#kwf=10.^(-14), \n",
    "#kwr=1;\n",
    "\n",
    "# Planteamiento del modelo\n",
    "# d[AH]/dt = -k1f*[AH]+k1r*[A-]*[H+]\n",
    "# d[A]/dt = -k1f*[AH]+k1r*[A-]*[H+]\n",
    "# d[H+]/dt = k1f*[AH]-k1r*[A-]*[H+]+kwf-kwr*[H+]*[OH-]\n",
    "# d[OH-]/dt = kwf-kwr*[H+]*[OH-]\n",
    "\n",
    "# P[0] = [AH],\n",
    "# P[1] = [A-],\n",
    "# P[2] = [H+],\n",
    "# P[3] = [OH-],\n",
    "\n",
    "\n",
    "\n",
    "\n",
    "#Declarando las concentraciones iniciales de las variables\n",
    "#Para ello obtener las concentraciones iniciales a pH 1 de las variables simuladas \n",
    "#usando la ecuación de Henderson Hasselbach\n",
    "\n",
    "#--> la concentración de ácido acético y su base conjugada a pH 1  y concentracion de buffer 0.1 M sera:\n",
    "\n",
    "def tritation(pH, pKa,ConcBuffer):\n",
    "    AHi=ConcBuffer/(1+10**(pH-pKa))\n",
    "    Ai=ConcBuffer-AHi\n",
    "    #AHi=0.09998201\n",
    "    #Ai=0.0000179855\n",
    "    \n",
    "    \n",
    "    Hi=10.**(-pH)\n",
    "    OHi=10.**(-(14-pH))\n",
    "    trit=[]\n",
    "#Declarando variables\n",
    "    k1f=10.**(-pKa)\n",
    "    k1r=1\n",
    "    kwf=10.**(-14)\n",
    "    kwr=1\n",
    "    def model(P, t):\n",
    "        return [-k1f*P[0]+k1r*P[1]*P[2],\n",
    "               k1f*P[0]-k1r*P[1]*P[2],\n",
    "               k1f*P[0]-k1r*P[1]*P[2]+kwf-kwr*P[2]*P[3],\n",
    "               kwf-kwr*P[2]*P[3]]\n",
    "    suma=14\n",
    "    vol=0.01 #Valor de volumen en lt que se adicionara durante la simulación\n",
    "    volacumulado=0.0\n",
    "    for x in range(30):\n",
    "        ts = np.linspace(0, 5000000000, 1000000) # de 0 a 12 con 100 puntos para t\n",
    "        P0 = [AHi,Ai,Hi,OHi+vol] #vector para los valores iniciales de los metabolitos\n",
    "        Ps = odeint(model, P0, ts) #Orden para integrar las ecuaciones diferenciales\n",
    "        AH = Ps[:,0]\n",
    "        A = Ps[:,1]\n",
    "        H = Ps[:,2]\n",
    "        OH = Ps[:,3]\n",
    "        AHi=Ps[99999,0]\n",
    "        Ai=Ps[99999,1]\n",
    "        Hi=Ps[99999,2]\n",
    "        OHi=Ps[99999,3]\n",
    "        pHf=np.log10(1/Hi)\n",
    "        pOHf=np.log10(1/OHi)\n",
    "        volacumulado=volacumulado+vol\n",
    "        trit.append([x+1,volacumulado,pHf,pOHf+pHf])\n",
    "    return trit\n",
    "pH=1\n",
    "pKa =6.5 #pka del ácido acético\n",
    "ConcBuffer=0.1    \n",
    "data=tritation(pH, pKa,ConcBuffer)\n",
    "print(\"complete\")"
   ]
  },
  {
   "cell_type": "code",
   "execution_count": 37,
   "id": "6623b5c3",
   "metadata": {},
   "outputs": [
    {
     "name": "stdout",
     "output_type": "stream",
     "text": [
      "-1.0\n"
     ]
    }
   ],
   "source": [
    "print(np.log10(1/10))"
   ]
  },
  {
   "cell_type": "code",
   "execution_count": 61,
   "id": "f49e74d6",
   "metadata": {},
   "outputs": [
    {
     "data": {
      "image/png": "[encoded data removed]",
      "text/plain": [
       "<Figure size 432x288 with 1 Axes>"
      ]
     },
     "metadata": {
      "needs_background": "light"
     },
     "output_type": "display_data"
    }
   ],
   "source": [
    "volumen=[]\n",
    "pHs=[]\n",
    "suma=[]\n",
    "for element in data:\n",
    "    volumen.append(element[1])\n",
    "    pHs.append(element[2])\n",
    "    suma.append(element[3])\n",
    "    \n",
    "plt.plot(volumen, pHs, label=\"pH\")\n",
    "plt.xlabel(\"Volumen\")\n",
    "plt.ylabel(\"pH\")\n",
    "plt.legend();"
   ]
  },
  {
   "cell_type": "code",
   "execution_count": 45,
   "id": "c44101ab",
   "metadata": {},
   "outputs": [
    {
     "name": "stdout",
     "output_type": "stream",
     "text": [
      "[1.0456627197531607, 1.0966703618443585, 1.1544331056765824, 1.220999692165037, 1.2995070191465385, 1.3951022824657162, 1.5170696951846019, 1.6845491568808582, 1.944495286387589, 2.3936944354977365, 2.8654834323077765, 3.1707202677444286, 3.393976991977302, 3.581846060408431, 3.756129697554732, 3.9314291322780166, 4.123217751290288, 4.358093476313807, 4.713825193199106, 10.24931044822707, 12.00764165845603, 12.30486762618667, 12.479683437930227, 12.603983043962005, 12.70050912681914, 12.779434230810942, 12.846197969327298, 12.904052577336982, 12.955098250563022, 13.000770242821934]\n"
     ]
    }
   ],
   "source": [
    "print(pHs)"
   ]
  },
  {
   "cell_type": "code",
   "execution_count": 62,
   "id": "7f02b19f",
   "metadata": {},
   "outputs": [
    {
     "name": "stdout",
     "output_type": "stream",
     "text": [
      "[14.0, 14.0, 14.0, 14.0, 14.0, 14.0, 14.0, 14.0, 14.0, 14.0, 14.000000001124192, 14.000000549494075, 14.000000904147138, 13.999990000772026, 14.004596561174953, 13.999980945131426, 13.992098646709074, 13.975075802798997, 13.997332133338308, 11.948581462487853, 13.999121782566217, 13.999749752089542, 14.000065226878366, 13.999996050977359, 13.999997425192081, 13.99999244872163, 13.999991723868668, 13.999995908769861, 13.9999979419092, 13.99999891190463]\n"
     ]
    }
   ],
   "source": [
    "print(suma)"
   ]
  },
  {
   "cell_type": "code",
   "execution_count": 8,
   "id": "6489d4c1",
   "metadata": {},
   "outputs": [
    {
     "name": "stdout",
     "output_type": "stream",
     "text": [
      "[1, 0.01, 1.0444867394289725, 12.955513260571028]\n"
     ]
    }
   ],
   "source": [
    "print(data[:][0])"
   ]
  },
  {
   "cell_type": "code",
   "execution_count": 2,
   "id": "e581a28f",
   "metadata": {},
   "outputs": [
    {
     "data": {
      "text/latex": [
       "$\\displaystyle F(k) = \\int_{-\\infty}^{\\infty} f(x) e^{2\\pi i k} dx$"
      ],
      "text/plain": [
       "<IPython.core.display.Math object>"
      ]
     },
     "metadata": {},
     "output_type": "display_data"
    }
   ],
   "source": [
    "from IPython.display import display, Math, Latex\n",
    "display(Math(r'F(k) = \\int_{-\\infty}^{\\infty} f(x) e^{2\\pi i k} dx'))"
   ]
  },
  {
   "cell_type": "markdown",
   "id": "087b136f",
   "metadata": {},
   "source": [
    "## Modelando Buffer fosfato\n",
    "\n",
    " $$ \\mathrm{H_3PO_4} \\xrightleftharpoons[k_{-1}]{k_1}\\mathrm{H_2PO_4^{-}+ H^{+}}\\xrightleftharpoons[k_{-2}]{k_2}\\mathrm{HPO_4^{2-}+ H^{+}}\\xrightleftharpoons[k_{-3}]{k_3}\\mathrm{PO_4^{3-}+ H^{+}}$$\n",
    "\n",
    " $$ \\mathrm{H_2O} \\xrightleftharpoons[k_{w_r}]{k_{w_f}}\\mathrm{OH^{-}+ H^{+}}$$\n",
    " \n",
    " $$ A+B \\xrightleftharpoons{k_1}C$$\n",
    " \n"
   ]
  },
  {
   "cell_type": "code",
   "execution_count": null,
   "id": "e7d7714d",
   "metadata": {},
   "outputs": [],
   "source": [
    "import numpy as np\n",
    "from scipy.integrate import odeint\n",
    "import matplotlib.pyplot as plt\n",
    "\n",
    "#Presentacion del sistema a modelar/Planteamiento del modelo\n",
    "# H3PO4 <-k1-> H2PO4- + H+  <-k2-> HPO4-- + H+  <-k3-> PO4--- + H+\n",
    "# k1f=log10(1/pka1)\n",
    "# k1r=1\n",
    "# k2f=log10(1/pka2)\n",
    "# k2r=1\n",
    "# k3f=log10(1/pka3)\n",
    "# k3r=1\n",
    "\n",
    "# H2O <--> H+ +OH-, \n",
    "# kwf=10.^(-14), \n",
    "# kwr=1;\n",
    "\n",
    "# Planteamiento del modelo\n",
    "# d[H3PO4]/dt = -k1f*[H3PO4]+k1r*[H2PO4-]*[H+]\n",
    "# d[H2PO4-]/dt = k1f*[H3PO4]-k1r*[H2PO4-]*[H+]-k2f*[H2PO4-]+k2r*[HPO4--]*[H+]\n",
    "# d[HPO4--]/dt = k2f*[H2PO4-]-k2r*[HPO4--]*[H+]-k3f*[HPO4--]+k3r*[PO4---]*[H+]\n",
    "# d[PO4---]/dt = k3f*[HPO4--]-k3r*[PO4---]*[H+]\n",
    "\n",
    "# d[H+]/dt =  k1f*[H3PO4]-k1r*[H2PO4-]*[H+]                                     kwf-kwr*[H+]*[OH-]\n",
    "# d[OH-]/dt = kwf-kwr*[H+]*[OH-]\n",
    "\n",
    "# P[0] = [AH],\n",
    "# P[1] = [A-],\n",
    "# P[2] = [H+],\n",
    "# P[3] = [OH-],\n",
    "\n",
    "pk1=\n",
    "pk2=\n",
    "pk3=\n",
    "\n",
    "\n",
    "#Declarando variables\n",
    "k1f=1.76*10.**(-5)\n",
    "k1r=1\n",
    "k2f=\n",
    "k2r=\n",
    "k3f=\n",
    "k3r=\n",
    "kwf=10.**(-14)\n",
    "kwr=1\n",
    "\n",
    "def model(P, t):\n",
    "    return [-k1f*P[0]+k1r*P[1]*P[2],\n",
    "           k1f*P[0]-k1r*P[1]*P[2],\n",
    "           k1f*P[0]-k1r*P[1]*P[2]+kwf-kwr*P[2]*P[3],\n",
    "           kwf-kwr*P[2]*P[3]]\n",
    "\n",
    "\n",
    "dxdt(1) = -k1f*x(1)+k1r*x(2)*x(5);\n",
    "dxdt(2) = k1f*x(1)-k1r*x(2)*x(5)-k2f*x(2)+k2r*x(3)*x(5);\n",
    "dxdt(3) = k2f*x(2)-k2r*x(3)*x(5)-k3f*x(3)+k3r*x(4)*x(5);\n",
    "dxdt(4) = k3f*x(3)-k3r*x(4)*x(5);\n",
    "dxdt(5) = k1f*x(1)-k1r*x(2)*x(5)+k2f*x(2)-k2r*x(3)*x(5)+k3f*x(3)-k3r*x(4)*x(5)+kwf-kwr*x(5)*x(6);\n",
    "dxdt(6) = kwf-kwr*x(5)*x(6);\n",
    "\n",
    "\n",
    "\n",
    "\n",
    "#Declarando las concentraciones iniciales de las variables\n",
    "#Para ello obtener las concentraciones iniciales a pH 1 de las variables simuladas \n",
    "#usando la ecuación de Henderson Hasselbach\n",
    "pH=2\n",
    "pKa =3.75 #pka del ácido acético\n",
    "ConcBuffer=0.1\n",
    "#--> la concentración de ácido acético y su base conjugada a pH 1  y concentracion de buffer 0.1 M sera:\n",
    "\n",
    "AHi=ConcBuffer/(1+(10**(pH-pKa)))\n",
    "Ai=ConcBuffer-AHi\n",
    "\n",
    "print(AHi,Ai)\n",
    "\n",
    "#AHi=0.09998201\n",
    "#Ai=0.0000179855\n",
    "Hi=10.**(-pH)\n",
    "OHi=10.**(-(14-pH))\n",
    "\n",
    "suma=14\n",
    "vol=0.01 #Valor de volumen en lt que se adicionara durante la simulación\n",
    "\n",
    "ts = np.linspace(0, 40, 400) # de 0 a 12 con 100 puntos para t\n",
    "P0 = [AHi,Ai,Hi,OHi+vol] #vector para los valores iniciales de los metabolitos\n",
    "Ps = odeint(model, P0, ts) #Orden para integrar las ecuaciones diferenciales\n",
    "AH = Ps[:,0]\n",
    "A = Ps[:,1]\n",
    "H = Ps[:,2]\n",
    "OH = Ps[:,3]\n",
    "\n",
    "plt.plot(ts, AH, label=\"[AH]\")\n",
    "plt.plot(ts, A, label=\"[A-]\")\n",
    "plt.plot(ts, H, label=\"[H+]\")\n",
    "plt.plot(ts, OH, label=\"[OH-]\")\n",
    "plt.xlabel(\"Time\")\n",
    "plt.ylabel(\"Concentration\")\n",
    "plt.legend();"
   ]
  }
 ],
 "metadata": {
  "kernelspec": {
   "display_name": "Python 3",
   "language": "python",
   "name": "python3"
  },
  "language_info": {
   "codemirror_mode": {
    "name": "ipython",
    "version": 3
   },
   "file_extension": ".py",
   "mimetype": "text/x-python",
   "name": "python",
   "nbconvert_exporter": "python",
   "pygments_lexer": "ipython3",
   "version": "3.6.9"
  }
 },
 "nbformat": 4,
 "nbformat_minor": 5
}
